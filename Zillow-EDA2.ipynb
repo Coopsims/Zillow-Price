{
 "cells": [
  {
   "cell_type": "code",
   "outputs": [
    {
     "ename": "ModuleNotFoundError",
     "evalue": "No module named 'lightgbm'",
     "output_type": "error",
     "traceback": [
      "\u001B[1;31m---------------------------------------------------------------------------\u001B[0m",
      "\u001B[1;31mModuleNotFoundError\u001B[0m                       Traceback (most recent call last)",
      "Cell \u001B[1;32mIn[2], line 27\u001B[0m\n\u001B[0;32m     25\u001B[0m \u001B[38;5;28;01mfrom\u001B[39;00m \u001B[38;5;21;01msklearn\u001B[39;00m\u001B[38;5;21;01m.\u001B[39;00m\u001B[38;5;21;01mensemble\u001B[39;00m \u001B[38;5;28;01mimport\u001B[39;00m AdaBoostRegressor, ExtraTreesRegressor\n\u001B[0;32m     26\u001B[0m \u001B[38;5;28;01mfrom\u001B[39;00m \u001B[38;5;21;01mcatboost\u001B[39;00m \u001B[38;5;28;01mimport\u001B[39;00m CatBoostRegressor\n\u001B[1;32m---> 27\u001B[0m \u001B[38;5;28;01mfrom\u001B[39;00m \u001B[38;5;21;01mlightgbm\u001B[39;00m \u001B[38;5;28;01mimport\u001B[39;00m LGBMRegressor\n",
      "\u001B[1;31mModuleNotFoundError\u001B[0m: No module named 'lightgbm'"
     ]
    }
   ],
   "source": [
    "# Libraries\n",
    "import pandas as pd\n",
    "import numpy as np\n",
    "import matplotlib.pyplot as plt\n",
    "import seaborn as sns\n",
    "import xgboost as xgb\n",
    "import gc\n",
    "import os\n",
    "import reducing\n",
    "from sklearn.model_selection import train_test_split\n",
    "from sklearn.ensemble import RandomForestRegressor\n",
    "from sklearn.model_selection import GridSearchCV\n",
    "from sklearn.metrics import mean_absolute_error, mean_squared_error\n",
    "from statsmodels.stats.outliers_influence import variance_inflation_factor\n",
    "from sklearn.preprocessing import MinMaxScaler\n",
    "import time\n",
    "from sklearn.linear_model import Ridge\n",
    "from sklearn.linear_model import Lasso, ElasticNet\n",
    "from sklearn.ensemble import GradientBoostingRegressor\n",
    "from sklearn.svm import SVR\n",
    "from sklearn.tree import DecisionTreeRegressor\n",
    "from sklearn.neural_network import MLPRegressor\n",
    "from xgboost import XGBRegressor\n",
    "from sklearn.linear_model import SGDRegressor\n",
    "from sklearn.ensemble import AdaBoostRegressor, ExtraTreesRegressor\n",
    "from catboost import CatBoostRegressor\n",
    "from lightgbm import LGBMRegressor\n"
   ],
   "metadata": {
    "collapsed": false,
    "ExecuteTime": {
     "end_time": "2024-04-15T22:39:24.593083Z",
     "start_time": "2024-04-15T22:39:23.787450Z"
    }
   },
   "id": "initial_id",
   "execution_count": 2
  },
  {
   "cell_type": "code",
   "outputs": [],
   "source": [
    "# Loading in all data to pd dataframes\n",
    "property2016 = pd.read_csv(\"./Zillow-Data/properties_2016.csv\",low_memory = False)\n",
    "property2017 = pd.read_csv(\"./Zillow-Data/properties_2017.csv\",low_memory = False)\n",
    "train2016 = pd.read_csv(\"./Zillow-Data/train_2016_v2.csv\")\n",
    "train2017 = pd.read_csv(\"./Zillow-Data/train_2017.csv\")\n",
    "\n",
    "# \"\"\"\n",
    "# reducing the size of the data stored with some brilliant code from:\n",
    "# originally by Kirgsn on kaggle: https://www.kaggle.com/code/wkirgsn/fail-safe-parallel-memory-reduction/comments\n",
    "# which was refined by Etienne Tremblay: https://www.kaggle.com/code/etremblay/fail-safe-parallel-memory-reduction/notebook\n",
    "# \n",
    "# As this code doesn't directly apply to the semester project and is just an ease of life item for cleaning up and making \n",
    "# the raw dataframes smaller and easier to manage I felt it was fine to include, however just note that this project would \n",
    "# function identically if this code was removed.\n",
    "# \"\"\"\n",
    "# property2016 = reducing.Reducer().reduce(property2016_raw)\n",
    "# property2017 = reducing.Reducer().reduce(property2017_raw)\n",
    "# train2016 = reducing.Reducer().reduce(train2016_raw)\n",
    "# train2017 = reducing.Reducer().reduce(train2017_raw)"
   ],
   "metadata": {
    "collapsed": false,
    "ExecuteTime": {
     "start_time": "2024-04-15T22:39:24.594088Z"
    }
   },
   "id": "9e530a930c4e8243",
   "execution_count": null
  },
  {
   "cell_type": "markdown",
   "source": [
    "There look to be a lot of null values so This will look into which columns have the most"
   ],
   "metadata": {
    "collapsed": false
   },
   "id": "ec5f6cb2d34480a0"
  },
  {
   "cell_type": "code",
   "outputs": [],
   "source": [
    "\"\"\"\n",
    "Code for displaying the number of missing values taken from \n",
    "https://github.com/ojasphansekar/Zillow-Home-Value-Prediction/blob/master/Project.ipynb\n",
    "\n",
    "Again, this code doesn't directly apply to the semester project of creating a machine learning model \n",
    "and is just an ease of life item for visualizing the number of Null values in each column I felt it was fine to include, \n",
    "however just note that this project would function identically if this code was removed.\n",
    "\"\"\"\n",
    "missing_df = property2017.isnull().sum(axis=0).reset_index()\n",
    "missing_df.columns = ['column_name', 'missing_count']\n",
    "missing_df = missing_df.loc[missing_df['missing_count']>0]\n",
    "missing_df = missing_df.sort_values(by='missing_count')\n",
    "\n",
    "ind = np.arange(missing_df.shape[0])\n",
    "width = 0.9\n",
    "fig, ax = plt.subplots(figsize=(12,18))\n",
    "rects = ax.barh(ind, missing_df.missing_count.values, color='blue')\n",
    "ax.set_yticks(ind)\n",
    "ax.set_yticklabels(missing_df.column_name.values, rotation='horizontal')\n",
    "ax.set_xlabel(\"Count of missing values\")\n",
    "ax.set_title(\"Number of missing values in each column\")\n",
    "plt.show()"
   ],
   "metadata": {
    "collapsed": false,
    "ExecuteTime": {
     "start_time": "2024-04-15T22:39:24.595090Z"
    }
   },
   "id": "63d866b8f4ad1cb6",
   "execution_count": null
  },
  {
   "cell_type": "markdown",
   "source": [
    "### Original testing code to make sure the model works\n",
    "\n",
    "\"\"\"\n",
    "If a column has more than 50% of the values missing it gets removed from the utilized columns\n",
    "\"\"\"\n",
    "NULL_CUTOFF_VALUE = 0.5\n",
    "missing_df['missing_pct'] = missing_df['missing_count'] / property2017.shape[0]\n",
    "good_features = missing_df[missing_df['missing_pct'] < NULL_CUTOFF_VALUE]\n",
    "\n",
    "if 'parcelid' not in good_features['column_name'].values:\n",
    "    good_features = pd.concat([good_features, pd.DataFrame([['parcelid', 0, 0]],columns=['column_name', 'missing_count', 'missing_pct'])],ignore_index=True)\n",
    "\n",
    "property2017_subset = property2017[good_features['column_name']]\n",
    "\n",
    "train_df = pd.merge(train2017, property2017_subset, on='parcelid', how='left')\n",
    "\n",
    "\n",
    "train_df['propertyzoningdesc'], zoning_labels = pd.factorize(train_df['propertyzoningdesc'])\n",
    "\n",
    "train_df['propertycountylandusecode'], land_use_labels = pd.factorize(train_df['propertycountylandusecode'])\n"
   ],
   "metadata": {
    "collapsed": false
   },
   "id": "7d58206a97890240"
  },
  {
   "cell_type": "code",
   "outputs": [],
   "source": [
    "# def prepare_data(train_data, property_data, missing_data, null_cutoff=0.5):\n",
    "# \n",
    "#     missing_data['missing_pct'] = missing_data['missing_count'] / property_data.shape[0]\n",
    "#     good_features = missing_data[missing_data['missing_pct'] < null_cutoff]\n",
    "# \n",
    "#     if 'parcelid' not in good_features['column_name'].values:\n",
    "#         good_features = pd.concat([good_features, pd.DataFrame([['parcelid', 0, 0]],\n",
    "#                                                                columns=['column_name', 'missing_count',\n",
    "#                                                                         'missing_pct'])], ignore_index=True)\n",
    "# \n",
    "#     property_data_subset = property_data[good_features['column_name']]\n",
    "# \n",
    "#     columns_to_drop = ['propertyzoningdesc', 'propertycountylandusecode']\n",
    "#     for column in columns_to_drop:\n",
    "#         property_data_subset = property_data_subset.drop(column, errors='ignore')\n",
    "#         train_data = train_data.drop(column, errors='ignore')\n",
    "# \n",
    "#     result_df = pd.merge(train_data, property_data_subset, on='parcelid', how='left')\n",
    "# \n",
    "#     return result_df\n",
    "# \n",
    "# missing_data2016 = property2016.isnull().sum().reset_index().rename(\n",
    "#     columns={'index': 'column_name', 0: 'missing_count'})\n",
    "# missing_data2017 = property2017.isnull().sum().reset_index().rename(\n",
    "#     columns={'index': 'column_name', 0: 'missing_count'})\n",
    "# \n",
    "# # Use your 'prepare_data' function\n",
    "# train2016 = prepare_data(train2016, property2016, missing_data2016)\n",
    "# train2017 = prepare_data(train2017, property2017, missing_data2017)\n",
    "\n",
    "# Combine into one giant df\n",
    "# train_df = pd.concat([train2016, train2017], axis = 0)\n",
    "train_df = pd.merge(train2016, property2016, on='parcelid', how='left')"
   ],
   "metadata": {
    "collapsed": false,
    "ExecuteTime": {
     "start_time": "2024-04-15T22:39:24.596089Z"
    }
   },
   "id": "a111865939171990",
   "execution_count": null
  },
  {
   "cell_type": "code",
   "outputs": [],
   "source": [
    "# train_df.dropna(inplace=True)"
   ],
   "metadata": {
    "collapsed": false,
    "ExecuteTime": {
     "start_time": "2024-04-15T22:39:24.597091Z"
    }
   },
   "id": "df460db20e71904c",
   "execution_count": null
  },
  {
   "cell_type": "code",
   "outputs": [],
   "source": [
    "print(train_df.shape)"
   ],
   "metadata": {
    "collapsed": false,
    "ExecuteTime": {
     "start_time": "2024-04-15T22:39:24.598091Z"
    }
   },
   "id": "e503b5bd3025554e",
   "execution_count": null
  },
  {
   "cell_type": "code",
   "outputs": [],
   "source": [
    "print(train_df.dtypes)"
   ],
   "metadata": {
    "collapsed": false,
    "ExecuteTime": {
     "start_time": "2024-04-15T22:39:24.598091Z"
    }
   },
   "id": "1c09d7a0c9946b",
   "execution_count": null
  },
  {
   "cell_type": "code",
   "outputs": [],
   "source": [
    "non_numeric_columns = train_df.select_dtypes(exclude=[np.number]).columns\n",
    "print(non_numeric_columns)"
   ],
   "metadata": {
    "collapsed": false,
    "ExecuteTime": {
     "start_time": "2024-04-15T22:39:24.599089Z"
    }
   },
   "id": "8ca8049487666637",
   "execution_count": null
  },
  {
   "cell_type": "code",
   "outputs": [],
   "source": [
    "train_df.drop(['transactiondate', 'hashottuborspa', 'propertycountylandusecode',\n",
    "               'propertyzoningdesc', 'fireplaceflag', 'taxdelinquencyflag'],axis=1, inplace=True)"
   ],
   "metadata": {
    "collapsed": false,
    "ExecuteTime": {
     "start_time": "2024-04-15T22:39:24.600090Z"
    }
   },
   "id": "cf7d460bf8fb2e25",
   "execution_count": null
  },
  {
   "cell_type": "code",
   "outputs": [],
   "source": [
    "corr_matrix = train_df.corr()\n",
    "\n",
    "mask = np.triu(np.ones_like(corr_matrix, dtype=bool))\n",
    "\n",
    "cmap = sns.diverging_palette(230, 20, as_cmap=True)\n",
    "\n",
    "sns.heatmap(corr_matrix, mask=mask, cmap=cmap, center=0,\n",
    "            square=True, linewidths=.5, cbar_kws={\"shrink\": .5})\n",
    "\n",
    "plt.show()"
   ],
   "metadata": {
    "collapsed": false,
    "ExecuteTime": {
     "start_time": "2024-04-15T22:39:24.601090Z"
    }
   },
   "id": "cb46fa90f170c2c",
   "execution_count": null
  },
  {
   "cell_type": "code",
   "outputs": [],
   "source": [
    "correlation = train_df.corr()['logerror'].sort_values(ascending=False)\n",
    "print(correlation)"
   ],
   "metadata": {
    "collapsed": false,
    "ExecuteTime": {
     "start_time": "2024-04-15T22:39:24.602090Z"
    }
   },
   "id": "14796262be2d5586",
   "execution_count": null
  },
  {
   "cell_type": "markdown",
   "source": [
    "### Initial Thoughts and Findings\n",
    "\n",
    "there is some initial correlation however no one item is really enough. Now it's time to split the data into what's needed "
   ],
   "metadata": {
    "collapsed": false
   },
   "id": "380d862913536f35"
  },
  {
   "cell_type": "code",
   "outputs": [],
   "source": [
    "def prepare_data(train_data, isVif, isNorm):\n",
    "    # Ensure dataframe has no missing values\n",
    "    train_data = train_data.fillna(train_data.mean())\n",
    "    \n",
    "    if 'logerror' not in train_data.columns:\n",
    "        raise KeyError(\"The 'logerror' column is missing from the DataFrame. Please include it before calling this function.\")\n",
    "\n",
    "    logerror = train_data.pop('logerror')\n",
    "\n",
    "    # Calculate VIF and drop high VIF columns if isVif is True\n",
    "    if isVif:\n",
    "        vif_data = pd.DataFrame()\n",
    "        vif_data[\"feature\"] = train_data.columns\n",
    "        vif_data[\"VIF\"] = [variance_inflation_factor(train_data.values, i) for i in range(train_data.shape[1])]\n",
    "        high_vif_features = vif_data[vif_data['VIF'] > 5]['feature'].tolist()\n",
    "        train_data.drop(columns=high_vif_features, inplace=True)\n",
    "\n",
    "    # Normalize if isNorm is True\n",
    "    if isNorm:\n",
    "        scaler = MinMaxScaler()\n",
    "        train_data = pd.DataFrame(scaler.fit_transform(train_data), columns=train_data.columns)\n",
    "\n",
    "    # Re-add logerror to the dataset\n",
    "    train_data['logerror'] = logerror\n",
    "\n",
    "    # Prepare X and y for model training/testing\n",
    "    X = train_data.drop('logerror', axis=1)\n",
    "    y = train_data['logerror'].values\n",
    "\n",
    "    print(f\"For isVif:{isVif}, isNorm:{isNorm}, dimensions are: \", X.shape, y.shape)\n",
    "    return X, y\n"
   ],
   "metadata": {
    "collapsed": false
   },
   "id": "dd5f13d8c6ddc65f",
   "execution_count": null
  },
  {
   "cell_type": "markdown",
   "source": [
    "### Deciding on a Model\n",
    "\n",
    "I looked around on the competition website to see what other entries were using and it looks like most settled on a Gradient Boosting Machine for their model. This encouraged me to try three different methods. I want to try just a standard Random forest regressor, an XGBoost"
   ],
   "metadata": {
    "collapsed": false
   },
   "id": "fbf20fc397369fc3"
  },
  {
   "cell_type": "code",
   "outputs": [],
   "source": [
    "def save_results_to_csv(isVif, isNorm, mae, rmse, modelType, improvement, trainingTime = None):\n",
    "    # Set up the data\n",
    "    data = {\n",
    "        'isVif': [isVif],\n",
    "        'isNorm': [isNorm],\n",
    "        'mae': [mae],\n",
    "        'rmse': [rmse],\n",
    "        'modelType': [modelType],\n",
    "        'trainingTime': [trainingTime if trainingTime is not None else -1],\n",
    "        'percentImprovement': [improvement]\n",
    "    }\n",
    "    filename = f\"./modelPerformance.csv\"\n",
    "    # If the file doesn't exist, create it and write the data\n",
    "    if not os.path.isfile(filename):\n",
    "        pd.DataFrame(data).to_csv(filename, index=False)\n",
    "    else:\n",
    "        # Otherwise, append the new data to the existing file\n",
    "        pd.DataFrame(data).to_csv(filename, mode='a', header=False, index=False)"
   ],
   "metadata": {
    "collapsed": false,
    "ExecuteTime": {
     "start_time": "2024-04-15T22:39:24.603089Z"
    }
   },
   "id": "1c8401716c4cca26",
   "execution_count": null
  },
  {
   "cell_type": "code",
   "outputs": [],
   "source": [
    "def fit_and_evaluate_model(model, modelType, X, y):\n",
    "\n",
    "    split = 80000\n",
    "    x_train, y_train, x_valid, y_valid = X[:split], y[:split], X[split:], y[split:]\n",
    "    \n",
    "    start_time = time.time()\n",
    "\n",
    "    model.fit(x_train, y_train)\n",
    "\n",
    "    y_pred = model.predict(x_valid)\n",
    "\n",
    "    end_time = time.time()\n",
    "\n",
    "    mae = mean_absolute_error(y_valid, y_pred)\n",
    "    rmse = np.sqrt(mean_squared_error(y_valid, y_pred))\n",
    "\n",
    "    best_score = 0.07408\n",
    "    improvement = ((best_score - mae) / best_score) * 100\n",
    "    print(f\"MAE: {mae}, RMSE: {rmse}\")\n",
    "    print(f\"This score is {abs(improvement)}% {'better' if improvement > 0 else 'worse'} than the best score.\")\n",
    "\n",
    "    time_taken = end_time - start_time\n",
    "    print(f\"Time taken: {time_taken} seconds\")\n",
    "\n",
    "    save_results_to_csv(isVif, isNorm, mae, rmse, modelType, improvement, time_taken)\n",
    "\n"
   ],
   "metadata": {
    "collapsed": false,
    "ExecuteTime": {
     "start_time": "2024-04-15T22:39:24.604090Z"
    }
   },
   "id": "67c27fdafa130a7f",
   "execution_count": null
  },
  {
   "cell_type": "code",
   "outputs": [
    {
     "ename": "NameError",
     "evalue": "name 'RandomForestRegressor' is not defined",
     "output_type": "error",
     "traceback": [
      "\u001B[1;31m---------------------------------------------------------------------------\u001B[0m",
      "\u001B[1;31mNameError\u001B[0m                                 Traceback (most recent call last)",
      "Cell \u001B[1;32mIn[1], line 2\u001B[0m\n\u001B[0;32m      1\u001B[0m models \u001B[38;5;241m=\u001B[39m [\n\u001B[1;32m----> 2\u001B[0m     (\u001B[43mRandomForestRegressor\u001B[49m(n_estimators\u001B[38;5;241m=\u001B[39m\u001B[38;5;241m100\u001B[39m, random_state\u001B[38;5;241m=\u001B[39m\u001B[38;5;241m42\u001B[39m, n_jobs\u001B[38;5;241m=\u001B[39m\u001B[38;5;241m-\u001B[39m\u001B[38;5;241m1\u001B[39m), \u001B[38;5;124m'\u001B[39m\u001B[38;5;124mRandomForestRegressor\u001B[39m\u001B[38;5;124m'\u001B[39m),\n\u001B[0;32m      3\u001B[0m     (Ridge(alpha\u001B[38;5;241m=\u001B[39m\u001B[38;5;241m1.0\u001B[39m), \u001B[38;5;124m'\u001B[39m\u001B[38;5;124mRidgeRegression\u001B[39m\u001B[38;5;124m'\u001B[39m),\n\u001B[0;32m      4\u001B[0m     (Lasso(alpha\u001B[38;5;241m=\u001B[39m\u001B[38;5;241m1.0\u001B[39m), \u001B[38;5;124m'\u001B[39m\u001B[38;5;124mLassoRegression\u001B[39m\u001B[38;5;124m'\u001B[39m),\n\u001B[0;32m      5\u001B[0m     (ElasticNet(alpha\u001B[38;5;241m=\u001B[39m\u001B[38;5;241m1.0\u001B[39m, l1_ratio\u001B[38;5;241m=\u001B[39m\u001B[38;5;241m0.5\u001B[39m), \u001B[38;5;124m'\u001B[39m\u001B[38;5;124mElasticNetRegression\u001B[39m\u001B[38;5;124m'\u001B[39m),\n\u001B[0;32m      6\u001B[0m     (GradientBoostingRegressor(random_state\u001B[38;5;241m=\u001B[39m\u001B[38;5;241m42\u001B[39m), \u001B[38;5;124m'\u001B[39m\u001B[38;5;124mGradientBoostingRegressor\u001B[39m\u001B[38;5;124m'\u001B[39m),\n\u001B[0;32m      7\u001B[0m     \u001B[38;5;66;03m# (SVR(kernel=\"linear\"), 'LinearSVR'), # terrible: between O(n^2) and O(n^3)\u001B[39;00m\n\u001B[0;32m      8\u001B[0m     \u001B[38;5;66;03m# (SVR(kernel=\"rbf\"), 'RbfSVR'), # terrible: between O(n^2) and O(n^3)\u001B[39;00m\n\u001B[0;32m      9\u001B[0m     (DecisionTreeRegressor(random_state\u001B[38;5;241m=\u001B[39m\u001B[38;5;241m42\u001B[39m), \u001B[38;5;124m'\u001B[39m\u001B[38;5;124mDecisionTreeRegressor\u001B[39m\u001B[38;5;124m'\u001B[39m),\n\u001B[0;32m     10\u001B[0m     (MLPRegressor(hidden_layer_sizes\u001B[38;5;241m=\u001B[39m(\u001B[38;5;241m50\u001B[39m, \u001B[38;5;241m50\u001B[39m), max_iter\u001B[38;5;241m=\u001B[39m\u001B[38;5;241m1000\u001B[39m), \u001B[38;5;124m'\u001B[39m\u001B[38;5;124mMLPRegressor\u001B[39m\u001B[38;5;124m'\u001B[39m),\n\u001B[0;32m     11\u001B[0m     (XGBRegressor(objective\u001B[38;5;241m=\u001B[39m\u001B[38;5;124m'\u001B[39m\u001B[38;5;124mreg:squarederror\u001B[39m\u001B[38;5;124m'\u001B[39m, random_state\u001B[38;5;241m=\u001B[39m\u001B[38;5;241m42\u001B[39m, n_jobs \u001B[38;5;241m=\u001B[39m \u001B[38;5;241m-\u001B[39m\u001B[38;5;241m1\u001B[39m), \u001B[38;5;124m'\u001B[39m\u001B[38;5;124mXGBRegressor\u001B[39m\u001B[38;5;124m'\u001B[39m),\n\u001B[0;32m     12\u001B[0m     (SGDRegressor(random_state\u001B[38;5;241m=\u001B[39m\u001B[38;5;241m42\u001B[39m), \u001B[38;5;124m'\u001B[39m\u001B[38;5;124mSGDRegressor\u001B[39m\u001B[38;5;124m'\u001B[39m),  \u001B[38;5;66;03m# Uses n_jobs parameter\u001B[39;00m\n\u001B[0;32m     13\u001B[0m     (AdaBoostRegressor(random_state\u001B[38;5;241m=\u001B[39m\u001B[38;5;241m42\u001B[39m), \u001B[38;5;124m'\u001B[39m\u001B[38;5;124mAdaBoostRegressor\u001B[39m\u001B[38;5;124m'\u001B[39m),  \u001B[38;5;66;03m# Supports only Single Core\u001B[39;00m\n\u001B[0;32m     14\u001B[0m     (ExtraTreesRegressor(n_estimators\u001B[38;5;241m=\u001B[39m\u001B[38;5;241m100\u001B[39m, random_state\u001B[38;5;241m=\u001B[39m\u001B[38;5;241m42\u001B[39m, n_jobs\u001B[38;5;241m=\u001B[39m\u001B[38;5;241m-\u001B[39m\u001B[38;5;241m1\u001B[39m), \u001B[38;5;124m'\u001B[39m\u001B[38;5;124mExtraTreesRegressor\u001B[39m\u001B[38;5;124m'\u001B[39m),  \u001B[38;5;66;03m# Uses n_jobs parameter\u001B[39;00m\n\u001B[0;32m     15\u001B[0m     (CatBoostRegressor(iterations\u001B[38;5;241m=\u001B[39m\u001B[38;5;241m50\u001B[39m, depth\u001B[38;5;241m=\u001B[39m\u001B[38;5;241m3\u001B[39m, loss_function\u001B[38;5;241m=\u001B[39m\u001B[38;5;124m'\u001B[39m\u001B[38;5;124mRMSE\u001B[39m\u001B[38;5;124m'\u001B[39m, verbose\u001B[38;5;241m=\u001B[39m\u001B[38;5;28;01mFalse\u001B[39;00m), \u001B[38;5;124m'\u001B[39m\u001B[38;5;124mCatBoostRegressor\u001B[39m\u001B[38;5;124m'\u001B[39m),\n\u001B[0;32m     16\u001B[0m     \u001B[38;5;66;03m# Supports Multi-core\u001B[39;00m\n\u001B[0;32m     17\u001B[0m     (LGBMRegressor(objective\u001B[38;5;241m=\u001B[39m\u001B[38;5;124m'\u001B[39m\u001B[38;5;124mregression\u001B[39m\u001B[38;5;124m'\u001B[39m, num_leaves\u001B[38;5;241m=\u001B[39m\u001B[38;5;241m31\u001B[39m, learning_rate\u001B[38;5;241m=\u001B[39m\u001B[38;5;241m0.05\u001B[39m, n_estimators\u001B[38;5;241m=\u001B[39m\u001B[38;5;241m20\u001B[39m, n_jobs\u001B[38;5;241m=\u001B[39m\u001B[38;5;241m-\u001B[39m\u001B[38;5;241m1\u001B[39m),\n\u001B[0;32m     18\u001B[0m      \u001B[38;5;124m'\u001B[39m\u001B[38;5;124mLGBMRegressor\u001B[39m\u001B[38;5;124m'\u001B[39m)\n\u001B[0;32m     19\u001B[0m ]\n\u001B[0;32m     21\u001B[0m \u001B[38;5;66;03m# Define combinations\u001B[39;00m\n\u001B[0;32m     22\u001B[0m combinations \u001B[38;5;241m=\u001B[39m [(\u001B[38;5;28;01mTrue\u001B[39;00m, \u001B[38;5;28;01mTrue\u001B[39;00m), (\u001B[38;5;28;01mTrue\u001B[39;00m, \u001B[38;5;28;01mFalse\u001B[39;00m), (\u001B[38;5;28;01mFalse\u001B[39;00m, \u001B[38;5;28;01mTrue\u001B[39;00m), (\u001B[38;5;28;01mFalse\u001B[39;00m, \u001B[38;5;28;01mFalse\u001B[39;00m)]\n",
      "\u001B[1;31mNameError\u001B[0m: name 'RandomForestRegressor' is not defined"
     ]
    }
   ],
   "source": [
    "models = [\n",
    "    (RandomForestRegressor(n_estimators=100, random_state=42, n_jobs=-1), 'RandomForestRegressor'),\n",
    "    (Ridge(alpha=1.0), 'RidgeRegression'),\n",
    "    (Lasso(alpha=1.0), 'LassoRegression'),\n",
    "    (ElasticNet(alpha=1.0, l1_ratio=0.5), 'ElasticNetRegression'),\n",
    "    (GradientBoostingRegressor(random_state=42), 'GradientBoostingRegressor'),\n",
    "    # (SVR(kernel=\"linear\"), 'LinearSVR'), # terrible: between O(n^2) and O(n^3)\n",
    "    # (SVR(kernel=\"rbf\"), 'RbfSVR'), # terrible: between O(n^2) and O(n^3)\n",
    "    (DecisionTreeRegressor(random_state=42), 'DecisionTreeRegressor'),\n",
    "    (MLPRegressor(hidden_layer_sizes=(50, 50), max_iter=1000), 'MLPRegressor'),\n",
    "    (XGBRegressor(objective='reg:squarederror', random_state=42, n_jobs = -1), 'XGBRegressor'),\n",
    "    (SGDRegressor(random_state=42), 'SGDRegressor'),  # Uses n_jobs parameter\n",
    "    (AdaBoostRegressor(random_state=42), 'AdaBoostRegressor'),  # Supports only Single Core\n",
    "    (ExtraTreesRegressor(n_estimators=100, random_state=42, n_jobs=-1), 'ExtraTreesRegressor'),  # Uses n_jobs parameter\n",
    "    (CatBoostRegressor(iterations=50, depth=3, loss_function='RMSE', verbose=False), 'CatBoostRegressor'),\n",
    "    # Supports Multi-core\n",
    "    (LGBMRegressor(objective='regression', num_leaves=31, learning_rate=0.05, n_estimators=20, n_jobs=-1),\n",
    "     'LGBMRegressor')\n",
    "]\n",
    "\n",
    "# Define combinations\n",
    "combinations = [(True, True), (True, False), (False, True), (False, False)]\n",
    "\n",
    "# Loop over models\n",
    "for model, modelType in models:\n",
    "    print('working with ',modelType)\n",
    "    # Loop over combinations\n",
    "    for isVif, isNorm in combinations:\n",
    "        # Prepare the data\n",
    "        X, y = prepare_data(train_df, isVif, isNorm)\n",
    "\n",
    "        # Fit and evaluate the model\n",
    "        fit_and_evaluate_model(model, modelType, X, y)\n",
    "\n",
    "\n"
   ],
   "metadata": {
    "collapsed": false,
    "ExecuteTime": {
     "end_time": "2024-04-15T22:39:06.216023Z",
     "start_time": "2024-04-15T22:39:05.694739Z"
    }
   },
   "id": "b4398571780df71c",
   "execution_count": 1
  },
  {
   "cell_type": "code",
   "outputs": [],
   "source": [],
   "metadata": {
    "collapsed": false
   },
   "id": "9b4daf6aa31968ba"
  },
  {
   "cell_type": "code",
   "outputs": [
    {
     "name": "stdout",
     "output_type": "stream",
     "text": [
      "MAE: 0.07723986708840226, RMSE: 0.15835562298437597\n",
      "This score is 4.265479330996583% worse than the best score.\n",
      "Time taken: 14.513004302978516 seconds\n"
     ]
    }
   ],
   "source": [
    "# Splitting the data into training and testing sets\n",
    "# Assuming 'parcelid' is in the DataFrame 'train_df' and you've already prepared 'X' without 'parcelid'\n",
    "split = 80000\n",
    "x_train, y_train, x_valid, y_valid = X[:split], y[:split], X[split:], y[split:]\n",
    "\n",
    "start_time = time.time()\n",
    "modelType = 'Random Forest Regression'\n",
    "model = RandomForestRegressor(n_estimators=100, random_state=42, n_jobs=-1)\n",
    "\n",
    "model.fit(x_train, y_train)\n",
    "\n",
    "y_pred = model.predict(x_valid)\n",
    "\n",
    "end_time = time.time()\n",
    "\n",
    "mae = mean_absolute_error(y_valid, y_pred)\n",
    "rmse = np.sqrt(mean_squared_error(y_valid, y_pred))\n",
    "\n",
    "best_score = 0.07408\n",
    "\n",
    "if mae <= best_score:\n",
    "    percentage_better = ((best_score - mae) / best_score) * 100\n",
    "    print(f\"MAE: {mae}, RMSE: {rmse}\")\n",
    "    print(f\"This score is {percentage_better}% better than the best score.\")\n",
    "else:\n",
    "    percentage_worse = ((mae - best_score) / best_score) * 100\n",
    "    print(f\"MAE: {mae}, RMSE: {rmse}\")\n",
    "    print(f\"This score is {percentage_worse}% worse than the best score.\")\n",
    "\n",
    "time_taken = end_time - start_time\n",
    "print(f\"Time taken: {time_taken} seconds\")\n",
    "save_results_to_csv(isVif, isNorm, mae, rmse, modelType)\n"
   ],
   "metadata": {
    "collapsed": false,
    "ExecuteTime": {
     "end_time": "2024-04-15T20:25:41.586883Z",
     "start_time": "2024-04-15T20:25:27.068160Z"
    }
   },
   "id": "6bda036fa816065d",
   "execution_count": 51
  },
  {
   "cell_type": "code",
   "outputs": [
    {
     "name": "stdout",
     "output_type": "stream",
     "text": [
      "MAE: 0.06674509450429954, RMSE: 0.15010918824560324\n",
      "This score is 9.901330312770593% better than the best score.\n",
      "Time taken: 0.03258466720581055 seconds\n"
     ]
    },
    {
     "name": "stderr",
     "output_type": "stream",
     "text": [
      "C:\\Users\\funkb\\.virtualenvs\\Zillow-Price\\Lib\\site-packages\\sklearn\\linear_model\\_ridge.py:204: LinAlgWarning: Ill-conditioned matrix (rcond=1.88342e-18): result may not be accurate.\n",
      "  return linalg.solve(A, Xy, assume_a=\"pos\", overwrite_a=True).T\n"
     ]
    }
   ],
   "source": [
    "start_time = time.time()\n",
    "\n",
    "model = Ridge(alpha=1.0)  # Set regularization parameter\n",
    "model.fit(x_train, y_train)\n",
    "\n",
    "y_pred = model.predict(x_valid)\n",
    "\n",
    "end_time = time.time()\n",
    "modelType = 'Ridge Regression'\n",
    "mae = mean_absolute_error(y_valid, y_pred)\n",
    "rmse = np.sqrt(mean_squared_error(y_valid, y_pred))\n",
    "\n",
    "best_score = 0.07408\n",
    "\n",
    "if mae <= best_score:\n",
    "    percentage_better = ((best_score - mae) / best_score) * 100\n",
    "    print(f\"MAE: {mae}, RMSE: {rmse}\")\n",
    "    print(f\"This score is {percentage_better}% better than the best score.\")\n",
    "else:\n",
    "    percentage_worse = ((mae - best_score) / best_score) * 100\n",
    "    print(f\"MAE: {mae}, RMSE: {rmse}\")\n",
    "    print(f\"This score is {percentage_worse}% worse than the best score.\")\n",
    "\n",
    "time_taken = end_time - start_time\n",
    "print(f\"Time taken: {time_taken} seconds\")\n",
    "save_results_to_csv(isVif, isNorm, mae, rmse, modelType)"
   ],
   "metadata": {
    "collapsed": false,
    "ExecuteTime": {
     "end_time": "2024-04-15T20:40:00.814519Z",
     "start_time": "2024-04-15T20:40:00.775901Z"
    }
   },
   "id": "e723195a2f4da3a9",
   "execution_count": 68
  },
  {
   "cell_type": "code",
   "outputs": [
    {
     "name": "stdout",
     "output_type": "stream",
     "text": [
      "Writing csv ...\n",
      "File saved\n"
     ]
    }
   ],
   "source": [
    "# TODO: DO NOT TOUCH THE CODE BELOW, IT WORKS, I DON'T KNOW WHY\n",
    "sample = pd.read_csv('./Zillow-Data/sample_submission.csv')\n",
    "sample['parcelid'] = sample['ParcelId']\n",
    "test_df = sample.merge(property2017, on='parcelid', how='left')\n",
    "test_df_numeric = test_df.select_dtypes(include=[np.number])\n",
    "numeric_means = test_df_numeric.mean()\n",
    "test_df.fillna(numeric_means, inplace=True)\n",
    "test_X = test_df[X.columns]\n",
    "y_pred = model.predict(test_X)\n",
    "sub = pd.read_csv('./Zillow-Data/sample_submission.csv')\n",
    "for c in sub.columns[sub.columns != 'ParcelId']:\n",
    "    sub[c] = y_pred\n",
    "\n",
    "print('Writing csv ...')\n",
    "filename = f\"./Full-Outputs/{modelType}_isVif-{isVif}_isNorm-{isNorm}.csv\"\n",
    "sub.to_csv(filename, index=False, float_format='%.4f')\n",
    "print('File saved')"
   ],
   "metadata": {
    "collapsed": false,
    "ExecuteTime": {
     "end_time": "2024-04-15T20:40:29.084221Z",
     "start_time": "2024-04-15T20:40:04.044554Z"
    }
   },
   "id": "e4e7913386135a76",
   "execution_count": 69
  },
  {
   "cell_type": "markdown",
   "source": [
    "# TODO: DO NOT TOUCH THE CODE BELOW, IT WORKS, I DON'T KNOW WHY\n",
    "sample = pd.read_csv('./Zillow-Data/sample_submission.csv')\n",
    "sample['parcelid'] = sample['ParcelId']\n",
    "test_df = sample.merge(property2017, on='parcelid', how='left')\n",
    "test_X = test_df[X.columns]\n",
    "y_pred = model.predict(test_X)\n",
    "sub = pd.read_csv('./Zillow-Data/sample_submission.csv')\n",
    "for c in sub.columns[sub.columns != 'ParcelId']:\n",
    "    sub[c] = y_pred\n",
    "\n",
    "print('Writing csv ...')\n",
    "sub.to_csv('ridgevifcolumnsnonorms.csv', index=False, float_format='%.4f')"
   ],
   "metadata": {
    "collapsed": false
   },
   "id": "ec4c9c114d614090"
  },
  {
   "cell_type": "code",
   "outputs": [
    {
     "data": {
      "text/plain": "<Figure size 640x480 with 1 Axes>",
      "image/png": "[encoded data removed]"
     },
     "metadata": {},
     "output_type": "display_data"
    }
   ],
   "source": [
    "import matplotlib.pyplot as plt\n",
    "import numpy as np\n",
    "\n",
    "# Your best score\n",
    "best_score = 0.07408\n",
    "\n",
    "# Current score\n",
    "current_score = mae\n",
    "\n",
    "XG_score = 0.06505\n",
    "\n",
    "# Data to plot\n",
    "scores = [best_score, current_score, XG_score]\n",
    "\n",
    "# Create figure and axes\n",
    "fig, ax = plt.subplots()\n",
    "\n",
    "# Create bar chart\n",
    "ax.bar(['Best Score', 'Random Forest', 'XGBoost'], scores, color=['blue', 'green', 'red'])\n",
    "\n",
    "# Set title and labels\n",
    "ax.set_title('Model Score Comparison')\n",
    "ax.set_ylabel('Score')\n",
    "\n",
    "# Show the plot\n",
    "plt.show()\n"
   ],
   "metadata": {
    "collapsed": false,
    "ExecuteTime": {
     "end_time": "2024-04-11T18:47:56.493985Z",
     "start_time": "2024-04-11T18:47:56.388684Z"
    }
   },
   "id": "dbb21b7400840e50",
   "execution_count": 22
  },
  {
   "cell_type": "code",
   "outputs": [],
   "source": [],
   "metadata": {
    "collapsed": false
   },
   "id": "411381889010ae25"
  }
 ],
 "metadata": {
  "kernelspec": {
   "display_name": "Python 3",
   "language": "python",
   "name": "python3"
  },
  "language_info": {
   "codemirror_mode": {
    "name": "ipython",
    "version": 2
   },
   "file_extension": ".py",
   "mimetype": "text/x-python",
   "name": "python",
   "nbconvert_exporter": "python",
   "pygments_lexer": "ipython2",
   "version": "2.7.6"
  }
 },
 "nbformat": 4,
 "nbformat_minor": 5
}
